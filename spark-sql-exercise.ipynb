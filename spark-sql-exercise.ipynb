{
 "cells": [
  {
   "cell_type": "markdown",
   "metadata": {},
   "source": [
    "# Spark SQL mini project exercises."
   ]
  },
  {
   "cell_type": "markdown",
   "metadata": {},
   "source": [
    "#### README\n",
    "The exercises comes with this notebook, and a \"data\" folder. The data folder contains the dataset used for the exercises.\n",
    "Some of the code will be written to help you get started and some explanatory text to further aid the understanding of each exercise."
   ]
  },
  {
   "cell_type": "markdown",
   "metadata": {},
   "source": [
    "The first part is setting up a database and loading the dataset used for the exercises. This is already done berforehand. Just run all the cells until the **Exercise** part.\n",
    "\n",
    "**However**, note the path used to read the dataset from the *'data'* folder. This path works for unix based systems, but for windows users this *might* result in conflicts."
   ]
  },
  {
   "cell_type": "code",
   "execution_count": null,
   "metadata": {},
   "outputs": [],
   "source": [
    "# Initialising the spark session.\n",
    "from pyspark.sql import SparkSession\n",
    "from pathlib import Path\n",
    "\n",
    "data_path = Path.cwd() / 'data'\n",
    "\n",
    "spark=SparkSession.builder.appName('Practise').getOrCreate()\n",
    "spark"
   ]
  },
  {
   "cell_type": "code",
   "execution_count": null,
   "metadata": {},
   "outputs": [],
   "source": [
    "#Creates database\n",
    "spark.sql(\"CREATE DATABASE flightDB\")\n",
    "\n",
    "#Specifies which DB to use\n",
    "spark.sql(\"USE flightDB\")\n",
    "\n",
    "#Creates table\n",
    "spark.sql(f\"\"\"\n",
    "            CREATE TABLE flights (\n",
    "            DEST_COUNTRY_NAME STRING COMMENT \"Describes destination country\", \n",
    "            ORIGIN_COUNTRY_NAME STRING COMMENT \"Describes departure country\", \n",
    "            count LONG COMMENT \"Describes number of departures\")\n",
    "            USING csv OPTIONS (header true, path '{data_path}')\n",
    "            \"\"\")\n",
    "spark.sql(\"SELECT * FROM flights\").show()"
   ]
  },
  {
   "cell_type": "code",
   "execution_count": null,
   "metadata": {},
   "outputs": [],
   "source": [
    "#METADATA\n",
    "spark.sql(\"DESCRIBE flights\").show()"
   ]
  },
  {
   "cell_type": "markdown",
   "metadata": {},
   "source": [
    "## Exercise 1: Basic SQL"
   ]
  },
  {
   "cell_type": "markdown",
   "metadata": {},
   "source": [
    "**TODO** From *flightDB* use the table *flights* to compute the number of flights for each destination country. Order this from highest to lowest."
   ]
  },
  {
   "cell_type": "code",
   "execution_count": null,
   "metadata": {},
   "outputs": [],
   "source": [
    "# Write the code for exercise 1 here..."
   ]
  },
  {
   "cell_type": "markdown",
   "metadata": {},
   "source": [
    "## Exercise 2: Views"
   ]
  },
  {
   "cell_type": "markdown",
   "metadata": {},
   "source": [
    "**TODO** Create a *view* that only contains countries of origen = 'United States' using the table *flights*.\n",
    "\n",
    "**TODO** Repeat the same process as in exercise 1 but with a *view*: compute the number of flights for each destination country. Order this from highest to lowest."
   ]
  },
  {
   "cell_type": "code",
   "execution_count": null,
   "metadata": {},
   "outputs": [],
   "source": [
    "# Write the code for exercise 2 here..."
   ]
  },
  {
   "cell_type": "markdown",
   "metadata": {},
   "source": [
    "## Exercise 3: Performance"
   ]
  },
  {
   "cell_type": "markdown",
   "metadata": {},
   "source": [
    "**TODO** In the sparkUI, determine how the results of exercise 1 and exercise 2 compares. Write with words your observations and explain them."
   ]
  },
  {
   "cell_type": "markdown",
   "metadata": {},
   "source": [
    "Write your answers here for exercise 3..."
   ]
  },
  {
   "cell_type": "markdown",
   "metadata": {},
   "source": [
    "## Exercise 4: Case statements"
   ]
  },
  {
   "cell_type": "markdown",
   "metadata": {},
   "source": [
    "**TODO** Imagine your boss says the system is outdated. Every row containing the values 'United States' and 'Denmark' should be 'USA' and 'DK' respectively. And for mysterious reasons (the boss won't tell you) all other values should be 0 (for the country column).\n",
    "\n",
    "**NOTE** Use the table *partitioned_flights* to solve the exercise."
   ]
  },
  {
   "cell_type": "code",
   "execution_count": null,
   "metadata": {},
   "outputs": [],
   "source": [
    "# Write the code for exercise 4 here...\n",
    "\n",
    "#Create a view displaying all departures from United States\n",
    "spark.sql(\"\"\"\n",
    "            CREATE TABLE partitioned_flights USING parquet PARTITIONED BY (DEST_COUNTRY_NAME)\n",
    "            AS SELECT DEST_COUNTRY_NAME, count FROM flights LIMIT 5\n",
    "            \"\"\")"
   ]
  },
  {
   "cell_type": "markdown",
   "metadata": {},
   "source": [
    "## Exercise 5: Lists"
   ]
  },
  {
   "cell_type": "markdown",
   "metadata": {},
   "source": [
    "**TODO** Convert an array into rows. The view *flights_agg* contains an array, use the created view to solve the exercise."
   ]
  },
  {
   "cell_type": "code",
   "execution_count": null,
   "metadata": {},
   "outputs": [],
   "source": [
    "# Write the code for exercise 5 here...\n",
    "spark.sql(\"\"\"\n",
    "            CREATE OR REPLACE TEMP VIEW flights_agg AS\n",
    "            SELECT DEST_COUNTRY_NAME, collect_set(count) as collected_counts\n",
    "            FROM flights GROUP BY DEST_COUNTRY_NAME\n",
    "            \"\"\")"
   ]
  },
  {
   "cell_type": "markdown",
   "metadata": {},
   "source": [
    "## Exercise 6: User defined functions"
   ]
  },
  {
   "cell_type": "markdown",
   "metadata": {},
   "source": [
    "**TODO** Create a function that determines the ratio between how many departures and arrivals each country has. **NOTE** Create a view, based on the table *flights*, containing the information needed to compute the ratio.\n",
    "\n",
    "**TODO** Create a pandas function that also calculates the ratio using the package *pandas_udf*. Is there a performance difference? Describe your answer and explain. **NOTE** The required packages are pre imported and no further packages should be needed."
   ]
  },
  {
   "cell_type": "code",
   "execution_count": null,
   "metadata": {},
   "outputs": [],
   "source": [
    "import pandas as pd\n",
    "from pyspark.sql.functions import col, pandas_udf\n",
    "from pyspark.sql.types import LongType\n",
    "\n",
    "# Prints a list of all functions.\n",
    "spark.sql(\"\"\"SHOW FUNCTIONS\"\"\").show()"
   ]
  },
  {
   "cell_type": "code",
   "execution_count": null,
   "metadata": {},
   "outputs": [],
   "source": [
    "# Prints a list of only system functions.\n",
    "spark.sql(\"\"\"SHOW SYSTEM FUNCTIONS\"\"\").show()"
   ]
  },
  {
   "cell_type": "code",
   "execution_count": null,
   "metadata": {},
   "outputs": [],
   "source": [
    "# Prints a list of only user defined functions.\n",
    "spark.sql(\"\"\"SHOW USER FUNCTIONS\"\"\").show()"
   ]
  },
  {
   "cell_type": "code",
   "execution_count": null,
   "metadata": {},
   "outputs": [],
   "source": [
    "# Write your solution to exercise 6 here..."
   ]
  },
  {
   "cell_type": "markdown",
   "metadata": {},
   "source": [
    "# Dropping the table and database."
   ]
  },
  {
   "cell_type": "markdown",
   "metadata": {},
   "source": [
    "This is simply here if needed..."
   ]
  },
  {
   "cell_type": "code",
   "execution_count": null,
   "metadata": {},
   "outputs": [],
   "source": [
    "spark.sql(\"DROP TABLE IF EXISTS flights\")\n",
    "spark.sql(\"DROP DATABASE IF EXISTS flightDB\")"
   ]
  }
 ],
 "metadata": {
  "interpreter": {
   "hash": "2173472595553774291f7a41b22ecde918eb4c64316514c73849b879da0cd995"
  },
  "kernelspec": {
   "display_name": "Python 3.10.2",
   "language": "python",
   "name": "python3"
  },
  "language_info": {
   "codemirror_mode": {
    "name": "ipython",
    "version": 3
   },
   "file_extension": ".py",
   "mimetype": "text/x-python",
   "name": "python",
   "nbconvert_exporter": "python",
   "pygments_lexer": "ipython3",
   "version": "3.9.7"
  },
  "orig_nbformat": 4
 },
 "nbformat": 4,
 "nbformat_minor": 2
}
